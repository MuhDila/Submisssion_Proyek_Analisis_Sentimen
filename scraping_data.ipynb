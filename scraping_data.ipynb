{
 "cells": [
  {
   "metadata": {},
   "cell_type": "markdown",
   "source": "# Import",
   "id": "3655b77bf601937d"
  },
  {
   "metadata": {
    "ExecuteTime": {
     "end_time": "2025-04-10T03:51:39.322646Z",
     "start_time": "2025-04-10T03:51:39.317124Z"
    }
   },
   "cell_type": "code",
   "source": [
    "import csv\n",
    "from google_play_scraper import reviews_all, Sort"
   ],
   "id": "772099438f92dd43",
   "outputs": [],
   "execution_count": 9
  },
  {
   "metadata": {},
   "cell_type": "markdown",
   "source": "# Scrapping Data",
   "id": "8e13def013a0185b"
  },
  {
   "metadata": {
    "ExecuteTime": {
     "end_time": "2025-04-10T03:51:58.154354Z",
     "start_time": "2025-04-10T03:51:39.330688Z"
    }
   },
   "cell_type": "code",
   "source": [
    "# Mengambil semua ulasan dari aplikasi dengan ID 'com.EmasDigi' di Google Play Store.\n",
    "scrapReview = reviews_all(\n",
    "    app_id= 'com.EmasDigi',\n",
    "    lang='id',\n",
    "    country='id',\n",
    "    sort=Sort.MOST_RELEVANT,\n",
    "    count=20000\n",
    ")"
   ],
   "id": "e3a5ae730cab029f",
   "outputs": [],
   "execution_count": 10
  },
  {
   "metadata": {
    "ExecuteTime": {
     "end_time": "2025-04-10T04:05:13.151412Z",
     "start_time": "2025-04-10T04:05:12.858125Z"
    }
   },
   "cell_type": "code",
   "source": [
    "# Menyimpan ulasan dalam file CSV\n",
    "with open('dataset.csv', mode='w', newline='', encoding='utf-8') as file:\n",
    "    writer = csv.writer(file)\n",
    "    writer.writerow(['userName', 'content', 'score', 'thumbsUpCount', 'at', 'replyContent'])\n",
    "\n",
    "    for review in scrapReview:\n",
    "        writer.writerow([\n",
    "            review['userName'],\n",
    "            review['content'],\n",
    "            review['score'],\n",
    "            review['thumbsUpCount'],\n",
    "            review['at'],\n",
    "            review['replyContent']\n",
    "        ])"
   ],
   "id": "4e68b8a407d1c9f",
   "outputs": [],
   "execution_count": 15
  },
  {
   "metadata": {},
   "cell_type": "code",
   "outputs": [],
   "execution_count": null,
   "source": "",
   "id": "552853b6dc99b945"
  }
 ],
 "metadata": {
  "kernelspec": {
   "display_name": "Python 3",
   "language": "python",
   "name": "python3"
  },
  "language_info": {
   "codemirror_mode": {
    "name": "ipython",
    "version": 2
   },
   "file_extension": ".py",
   "mimetype": "text/x-python",
   "name": "python",
   "nbconvert_exporter": "python",
   "pygments_lexer": "ipython2",
   "version": "2.7.6"
  }
 },
 "nbformat": 4,
 "nbformat_minor": 5
}
